{
 "cells": [
  {
   "cell_type": "code",
   "execution_count": null,
   "id": "dd61ffb1",
   "metadata": {},
   "outputs": [],
   "source": [
    "from selenium import webdriver\n",
    "from selenium.webdriver.common.by import By\n",
    "from selenium.webdriver.chrome.service import Service\n",
    "from bs4 import BeautifulSoup\n",
    "import time\n",
    "import pandas as pd\n",
    "import requests"
   ]
  },
  {
   "cell_type": "code",
   "execution_count": null,
   "id": "05506ac7",
   "metadata": {},
   "outputs": [],
   "source": [
    "# 크롬 웹드라이버 실행 경로\n",
    "path = 'chromedriver.exe'\n",
    "\n",
    "# 크롤링할 주소 (네이버 세부설정까지 완료한 상태로)\n",
    "target_url = \"https://search.naver.com/search.naver?where=news&query=%EC%82%BC%EC%84%B1%EC%A0%84%EC%9E%90&sm=tab_opt&sort=2&photo=0&field=0&pd=3&ds=2023.07.01&de=2023.12.31&docid=&related=0&mynews=1&office_type=1&office_section_code=3&news_office_checked=1009&nso=so%3Ar%2Cp%3Afrom20230701to20231231&is_sug_officeid=0&office_category=0&service_area=0\"\n",
    "\n",
    "# 크롬 드라이버 사용\n",
    "service = Service(executable_path=path) # selenium 최근 버전은 이렇게\n",
    "options = webdriver.ChromeOptions()\n",
    "driver = webdriver.Chrome()\n",
    "\n",
    "# 드라이버에게 크롤링할 대상 알려주기\n",
    "try:\n",
    "    # 웹페이지 열기\n",
    "    driver.get(target_url)\n",
    "\n",
    "    # 초기 스크롤 높이 설정\n",
    "    last_height = driver.execute_script(\"return document.body.scrollHeight\")\n",
    "\n",
    "    while True:\n",
    "        # 아래까지 스크롤 다운\n",
    "        driver.execute_script(\"window.scrollTo(0, document.body.scrollHeight);\")\n",
    "\n",
    "        # 적응 시간\n",
    "        time.sleep(0.5)  \n",
    "\n",
    "        # 새로운 스크롤 높이 계산\n",
    "        new_height = driver.execute_script(\"return document.body.scrollHeight\")\n",
    "        if new_height == last_height:\n",
    "            break  # 만약 더 스크롤할게 없다면 정지\n",
    "        last_height = new_height\n",
    "\n",
    "    # 해당 화면 안에서 페이지 소스 받기\n",
    "    page_source = driver.page_source\n",
    "\n",
    "    # BeautifulSoup으로 parsing\n",
    "    bs_obj = BeautifulSoup(page_source, 'html.parser')\n",
    "\n",
    "    # a태그로 info에 해당하는 태그들 다 수집\n",
    "    results = bs_obj.find_all('a', {'class': \"info\"})\n",
    "\n",
    "    # 수집한 a 태그 개수 -> 절반이 네이버 뉴스\n",
    "    print(f\"Number of results found: {len(results)/2}\")\n",
    "\n",
    "finally:\n",
    "    # 가상 화면 닫기\n",
    "    driver.quit()"
   ]
  },
  {
   "cell_type": "code",
   "execution_count": null,
   "id": "2bd37f29",
   "metadata": {},
   "outputs": [],
   "source": [
    "# 기존 한국경제 링크랑 섞여서 네이버 뉴스꺼만 필터링\n",
    "news_link = []\n",
    "for tag in results:\n",
    "    href = tag.get('href')\n",
    "    if href:\n",
    "        news_link.append(href)\n",
    "\n",
    "news_link = [i for index, i in enumerate(news_link) if (index + 1) % 2 == 0]"
   ]
  },
  {
   "cell_type": "code",
   "execution_count": null,
   "id": "f823d367",
   "metadata": {},
   "outputs": [],
   "source": [
    "driver = webdriver.Chrome()\n",
    "driver.implicitly_wait(3)"
   ]
  },
  {
   "cell_type": "code",
   "execution_count": null,
   "id": "1de911bf",
   "metadata": {},
   "outputs": [],
   "source": [
    "from tqdm import tqdm\n",
    "\n",
    "all_results = dict()\n",
    "\n",
    "# tqdm을 사용하여 진행 상황 표시\n",
    "for i, link in enumerate(tqdm(news_link, desc=\"Processing links\")):     \n",
    "    # scraping하려는 웹페이지 주소를 get()에 전달\n",
    "    driver.get(link)\n",
    "    all_results[i] = dict()\n",
    "    \n",
    "    # 일시 추출하기\n",
    "    date = driver.find_elements(By.CLASS_NAME, 'media_end_head_info_datestamp_bunch')\n",
    "    date = date[0].text[2:]\n",
    "    \n",
    "    # 제목 추출하기\n",
    "    title = driver.find_elements(By.CLASS_NAME, 'media_end_head_headline')\n",
    "    title = title[0].text\n",
    "    \n",
    "    # 본문 추출하기\n",
    "    body = driver.find_elements(By.ID, 'newsct_article')\n",
    "    body = body[0].text.replace('\\n','')\n",
    "    \n",
    "    # 결과 저장\n",
    "    all_results[i]['link'] = link\n",
    "    all_results[i]['date'] = date\n",
    "    all_results[i]['title'] = title\n",
    "    all_results[i]['body'] = body\n",
    "\n",
    "# 드라이버 종료\n",
    "driver.quit()"
   ]
  },
  {
   "cell_type": "code",
   "execution_count": null,
   "id": "c5661094",
   "metadata": {},
   "outputs": [],
   "source": [
    "news_df = pd.DataFrame(all_results).T"
   ]
  },
  {
   "cell_type": "code",
   "execution_count": null,
   "id": "b315c29e",
   "metadata": {},
   "outputs": [],
   "source": [
    "# '오전'과 '오후'를 영어로 변환\n",
    "news_df['date'] = news_df['date'].str.replace('오전', 'AM').str.replace('오후', 'PM')\n",
    "\n",
    "# date 열을 datetime 형식으로 변환\n",
    "news_df['date'] = pd.to_datetime(news_df['date'], format='%Y.%m.%d. %p %I:%M')\n",
    "\n",
    "# year, month, day, hour, minute 열 생성\n",
    "news_df['year'] = news_df['date'].dt.year\n",
    "news_df['month'] = news_df['date'].dt.month\n",
    "news_df['day'] = news_df['date'].dt.day\n",
    "news_df['hour'] = news_df['date'].dt.hour\n",
    "news_df['minute'] = news_df['date'].dt.minute"
   ]
  },
  {
   "cell_type": "code",
   "execution_count": null,
   "id": "c659bc03",
   "metadata": {},
   "outputs": [],
   "source": [
    "# 고유 인덱스 부여 (년도 + 6자리)\n",
    "# 1이면 -> 000001\n",
    "news_df.index = news_df.index + 1\n",
    "news_df = news_df.reset_index()\n",
    "news_df['index'] = news_df['index'].astype(str).str.zfill(6)\n",
    "news_df['index'] = str(news_df['year'].unique()[0]) + news_df['index']"
   ]
  },
  {
   "cell_type": "code",
   "execution_count": null,
   "id": "60debb08",
   "metadata": {
    "scrolled": true
   },
   "outputs": [],
   "source": [
    "news_df"
   ]
  },
  {
   "cell_type": "code",
   "execution_count": null,
   "id": "a8bd150e",
   "metadata": {},
   "outputs": [],
   "source": [
    "news_df.to_csv('2023_매일경제_전반기.csv', index=False, encoding='utf-8-sig')"
   ]
  },
  {
   "cell_type": "code",
   "execution_count": null,
   "id": "8c04f89e",
   "metadata": {},
   "outputs": [],
   "source": []
  }
 ],
 "metadata": {
  "kernelspec": {
   "display_name": "Python 3 (ipykernel)",
   "language": "python",
   "name": "python3"
  },
  "language_info": {
   "codemirror_mode": {
    "name": "ipython",
    "version": 3
   },
   "file_extension": ".py",
   "mimetype": "text/x-python",
   "name": "python",
   "nbconvert_exporter": "python",
   "pygments_lexer": "ipython3",
   "version": "3.11.7"
  }
 },
 "nbformat": 4,
 "nbformat_minor": 5
}
